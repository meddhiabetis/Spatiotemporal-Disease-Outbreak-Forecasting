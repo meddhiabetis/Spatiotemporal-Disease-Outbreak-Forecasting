{
 "cells": [
  {
   "cell_type": "code",
   "execution_count": 2,
   "metadata": {},
   "outputs": [],
   "source": [
    "import pandas as pd"
   ]
  },
  {
   "cell_type": "code",
   "execution_count": 3,
   "metadata": {},
   "outputs": [],
   "source": [
    "def load_data():\n",
    "    train_df = pd.read_csv('../data/raw/Train.csv')\n",
    "    waste_df = pd.read_csv('../data/raw/waste_management.csv')\n",
    "    toilets_df = pd.read_csv('../data/raw/toilets.csv')\n",
    "    water_df = pd.read_csv('../data/raw/water_sources.csv')\n",
    "    return train_df, waste_df, toilets_df, water_df\n",
    "\n",
    "train_df, waste_df, toilets_df, water_df = load_data()"
   ]
  },
  {
   "cell_type": "code",
   "execution_count": 6,
   "metadata": {},
   "outputs": [
    {
     "name": "stdout",
     "output_type": "stream",
     "text": [
      "Train Dataset Shape: (23848, 9)\n"
     ]
    }
   ],
   "source": [
    "# Initial Data Exploration for Train Dataset\n",
    "print(\"Train Dataset Shape:\", train_df.shape)\n",
    "\n"
   ]
  },
  {
   "cell_type": "code",
   "execution_count": 7,
   "metadata": {},
   "outputs": [
    {
     "name": "stdout",
     "output_type": "stream",
     "text": [
      "\n",
      "First few rows of the dataset:\n"
     ]
    },
    {
     "data": {
      "text/html": [
       "<div>\n",
       "<style scoped>\n",
       "    .dataframe tbody tr th:only-of-type {\n",
       "        vertical-align: middle;\n",
       "    }\n",
       "\n",
       "    .dataframe tbody tr th {\n",
       "        vertical-align: top;\n",
       "    }\n",
       "\n",
       "    .dataframe thead th {\n",
       "        text-align: right;\n",
       "    }\n",
       "</style>\n",
       "<table border=\"1\" class=\"dataframe\">\n",
       "  <thead>\n",
       "    <tr style=\"text-align: right;\">\n",
       "      <th></th>\n",
       "      <th>ID</th>\n",
       "      <th>Total</th>\n",
       "      <th>Location</th>\n",
       "      <th>Category_Health_Facility_UUID</th>\n",
       "      <th>Disease</th>\n",
       "      <th>Month</th>\n",
       "      <th>Year</th>\n",
       "      <th>Transformed_Latitude</th>\n",
       "      <th>Transformed_Longitude</th>\n",
       "    </tr>\n",
       "  </thead>\n",
       "  <tbody>\n",
       "    <tr>\n",
       "      <th>0</th>\n",
       "      <td>ID_3a11929e-3317-476d-99f7-1bd9fb58f018_12_202...</td>\n",
       "      <td>0.0</td>\n",
       "      <td>ID_3a11929e-3317-476d-99f7-1bd9fb58f018</td>\n",
       "      <td>a9280aca-c872-46f5-ada7-4a7cc31cf6ec</td>\n",
       "      <td>Dysentery</td>\n",
       "      <td>12</td>\n",
       "      <td>2022</td>\n",
       "      <td>-8.62982</td>\n",
       "      <td>68.23267</td>\n",
       "    </tr>\n",
       "    <tr>\n",
       "      <th>1</th>\n",
       "      <td>ID_3a11929e-3317-476d-99f7-1bd9fb58f018_12_202...</td>\n",
       "      <td>0.0</td>\n",
       "      <td>ID_3a11929e-3317-476d-99f7-1bd9fb58f018</td>\n",
       "      <td>a9280aca-c872-46f5-ada7-4a7cc31cf6ec</td>\n",
       "      <td>Typhoid</td>\n",
       "      <td>12</td>\n",
       "      <td>2022</td>\n",
       "      <td>-8.62982</td>\n",
       "      <td>68.23267</td>\n",
       "    </tr>\n",
       "    <tr>\n",
       "      <th>2</th>\n",
       "      <td>ID_3a11929e-3317-476d-99f7-1bd9fb58f018_12_202...</td>\n",
       "      <td>0.0</td>\n",
       "      <td>ID_3a11929e-3317-476d-99f7-1bd9fb58f018</td>\n",
       "      <td>a9280aca-c872-46f5-ada7-4a7cc31cf6ec</td>\n",
       "      <td>Diarrhea</td>\n",
       "      <td>12</td>\n",
       "      <td>2022</td>\n",
       "      <td>-8.62982</td>\n",
       "      <td>68.23267</td>\n",
       "    </tr>\n",
       "    <tr>\n",
       "      <th>3</th>\n",
       "      <td>ID_3a11929e-3317-476d-99f7-1bd9fb58f018_12_202...</td>\n",
       "      <td>0.0</td>\n",
       "      <td>ID_3a11929e-3317-476d-99f7-1bd9fb58f018</td>\n",
       "      <td>a9280aca-c872-46f5-ada7-4a7cc31cf6ec</td>\n",
       "      <td>Diarrhea</td>\n",
       "      <td>12</td>\n",
       "      <td>2022</td>\n",
       "      <td>-8.62982</td>\n",
       "      <td>68.23267</td>\n",
       "    </tr>\n",
       "    <tr>\n",
       "      <th>4</th>\n",
       "      <td>ID_3a11929e-3317-476d-99f7-1bd9fb58f018_12_202...</td>\n",
       "      <td>0.0</td>\n",
       "      <td>ID_3a11929e-3317-476d-99f7-1bd9fb58f018</td>\n",
       "      <td>a9280aca-c872-46f5-ada7-4a7cc31cf6ec</td>\n",
       "      <td>Diarrhea</td>\n",
       "      <td>12</td>\n",
       "      <td>2022</td>\n",
       "      <td>-8.62982</td>\n",
       "      <td>68.23267</td>\n",
       "    </tr>\n",
       "  </tbody>\n",
       "</table>\n",
       "</div>"
      ],
      "text/plain": [
       "                                                  ID  Total  \\\n",
       "0  ID_3a11929e-3317-476d-99f7-1bd9fb58f018_12_202...    0.0   \n",
       "1  ID_3a11929e-3317-476d-99f7-1bd9fb58f018_12_202...    0.0   \n",
       "2  ID_3a11929e-3317-476d-99f7-1bd9fb58f018_12_202...    0.0   \n",
       "3  ID_3a11929e-3317-476d-99f7-1bd9fb58f018_12_202...    0.0   \n",
       "4  ID_3a11929e-3317-476d-99f7-1bd9fb58f018_12_202...    0.0   \n",
       "\n",
       "                                  Location  \\\n",
       "0  ID_3a11929e-3317-476d-99f7-1bd9fb58f018   \n",
       "1  ID_3a11929e-3317-476d-99f7-1bd9fb58f018   \n",
       "2  ID_3a11929e-3317-476d-99f7-1bd9fb58f018   \n",
       "3  ID_3a11929e-3317-476d-99f7-1bd9fb58f018   \n",
       "4  ID_3a11929e-3317-476d-99f7-1bd9fb58f018   \n",
       "\n",
       "          Category_Health_Facility_UUID    Disease  Month  Year  \\\n",
       "0  a9280aca-c872-46f5-ada7-4a7cc31cf6ec  Dysentery     12  2022   \n",
       "1  a9280aca-c872-46f5-ada7-4a7cc31cf6ec    Typhoid     12  2022   \n",
       "2  a9280aca-c872-46f5-ada7-4a7cc31cf6ec   Diarrhea     12  2022   \n",
       "3  a9280aca-c872-46f5-ada7-4a7cc31cf6ec   Diarrhea     12  2022   \n",
       "4  a9280aca-c872-46f5-ada7-4a7cc31cf6ec   Diarrhea     12  2022   \n",
       "\n",
       "   Transformed_Latitude  Transformed_Longitude  \n",
       "0              -8.62982               68.23267  \n",
       "1              -8.62982               68.23267  \n",
       "2              -8.62982               68.23267  \n",
       "3              -8.62982               68.23267  \n",
       "4              -8.62982               68.23267  "
      ]
     },
     "execution_count": 7,
     "metadata": {},
     "output_type": "execute_result"
    }
   ],
   "source": [
    "print(\"\\nFirst few rows of the dataset:\")\n",
    "train_df.head()\n"
   ]
  },
  {
   "cell_type": "code",
   "execution_count": 8,
   "metadata": {},
   "outputs": [
    {
     "name": "stdout",
     "output_type": "stream",
     "text": [
      "\n",
      "Data Info:\n",
      "<class 'pandas.core.frame.DataFrame'>\n",
      "RangeIndex: 23848 entries, 0 to 23847\n",
      "Data columns (total 9 columns):\n",
      " #   Column                         Non-Null Count  Dtype  \n",
      "---  ------                         --------------  -----  \n",
      " 0   ID                             23848 non-null  object \n",
      " 1   Total                          23847 non-null  float64\n",
      " 2   Location                       23848 non-null  object \n",
      " 3   Category_Health_Facility_UUID  23848 non-null  object \n",
      " 4   Disease                        23848 non-null  object \n",
      " 5   Month                          23848 non-null  int64  \n",
      " 6   Year                           23848 non-null  int64  \n",
      " 7   Transformed_Latitude           23848 non-null  float64\n",
      " 8   Transformed_Longitude          23848 non-null  float64\n",
      "dtypes: float64(3), int64(2), object(4)\n",
      "memory usage: 1.6+ MB\n"
     ]
    }
   ],
   "source": [
    "print(\"\\nData Info:\")\n",
    "train_df.info()\n"
   ]
  },
  {
   "cell_type": "code",
   "execution_count": 9,
   "metadata": {},
   "outputs": [
    {
     "name": "stdout",
     "output_type": "stream",
     "text": [
      "\n",
      "Summary Statistics:\n"
     ]
    },
    {
     "data": {
      "text/html": [
       "<div>\n",
       "<style scoped>\n",
       "    .dataframe tbody tr th:only-of-type {\n",
       "        vertical-align: middle;\n",
       "    }\n",
       "\n",
       "    .dataframe tbody tr th {\n",
       "        vertical-align: top;\n",
       "    }\n",
       "\n",
       "    .dataframe thead th {\n",
       "        text-align: right;\n",
       "    }\n",
       "</style>\n",
       "<table border=\"1\" class=\"dataframe\">\n",
       "  <thead>\n",
       "    <tr style=\"text-align: right;\">\n",
       "      <th></th>\n",
       "      <th>Total</th>\n",
       "      <th>Month</th>\n",
       "      <th>Year</th>\n",
       "      <th>Transformed_Latitude</th>\n",
       "      <th>Transformed_Longitude</th>\n",
       "    </tr>\n",
       "  </thead>\n",
       "  <tbody>\n",
       "    <tr>\n",
       "      <th>count</th>\n",
       "      <td>23847.000000</td>\n",
       "      <td>23848.000000</td>\n",
       "      <td>23848.000000</td>\n",
       "      <td>23848.00000</td>\n",
       "      <td>23848.000000</td>\n",
       "    </tr>\n",
       "    <tr>\n",
       "      <th>mean</th>\n",
       "      <td>8.355600</td>\n",
       "      <td>6.568643</td>\n",
       "      <td>2020.610282</td>\n",
       "      <td>-8.61252</td>\n",
       "      <td>68.242682</td>\n",
       "    </tr>\n",
       "    <tr>\n",
       "      <th>std</th>\n",
       "      <td>28.076713</td>\n",
       "      <td>3.445577</td>\n",
       "      <td>1.133108</td>\n",
       "      <td>0.04251</td>\n",
       "      <td>0.029114</td>\n",
       "    </tr>\n",
       "    <tr>\n",
       "      <th>min</th>\n",
       "      <td>0.000000</td>\n",
       "      <td>1.000000</td>\n",
       "      <td>2019.000000</td>\n",
       "      <td>-8.71376</td>\n",
       "      <td>68.169720</td>\n",
       "    </tr>\n",
       "    <tr>\n",
       "      <th>25%</th>\n",
       "      <td>0.000000</td>\n",
       "      <td>4.000000</td>\n",
       "      <td>2020.000000</td>\n",
       "      <td>-8.62656</td>\n",
       "      <td>68.224740</td>\n",
       "    </tr>\n",
       "    <tr>\n",
       "      <th>50%</th>\n",
       "      <td>0.000000</td>\n",
       "      <td>7.000000</td>\n",
       "      <td>2021.000000</td>\n",
       "      <td>-8.61740</td>\n",
       "      <td>68.237620</td>\n",
       "    </tr>\n",
       "    <tr>\n",
       "      <th>75%</th>\n",
       "      <td>3.000000</td>\n",
       "      <td>10.000000</td>\n",
       "      <td>2022.000000</td>\n",
       "      <td>-8.59431</td>\n",
       "      <td>68.257640</td>\n",
       "    </tr>\n",
       "    <tr>\n",
       "      <th>max</th>\n",
       "      <td>489.000000</td>\n",
       "      <td>12.000000</td>\n",
       "      <td>2022.000000</td>\n",
       "      <td>-8.49681</td>\n",
       "      <td>68.328390</td>\n",
       "    </tr>\n",
       "  </tbody>\n",
       "</table>\n",
       "</div>"
      ],
      "text/plain": [
       "              Total         Month          Year  Transformed_Latitude  \\\n",
       "count  23847.000000  23848.000000  23848.000000           23848.00000   \n",
       "mean       8.355600      6.568643   2020.610282              -8.61252   \n",
       "std       28.076713      3.445577      1.133108               0.04251   \n",
       "min        0.000000      1.000000   2019.000000              -8.71376   \n",
       "25%        0.000000      4.000000   2020.000000              -8.62656   \n",
       "50%        0.000000      7.000000   2021.000000              -8.61740   \n",
       "75%        3.000000     10.000000   2022.000000              -8.59431   \n",
       "max      489.000000     12.000000   2022.000000              -8.49681   \n",
       "\n",
       "       Transformed_Longitude  \n",
       "count           23848.000000  \n",
       "mean               68.242682  \n",
       "std                 0.029114  \n",
       "min                68.169720  \n",
       "25%                68.224740  \n",
       "50%                68.237620  \n",
       "75%                68.257640  \n",
       "max                68.328390  "
      ]
     },
     "execution_count": 9,
     "metadata": {},
     "output_type": "execute_result"
    }
   ],
   "source": [
    "print(\"\\nSummary Statistics:\")\n",
    "train_df.describe()\n"
   ]
  },
  {
   "cell_type": "code",
   "execution_count": 10,
   "metadata": {},
   "outputs": [
    {
     "name": "stdout",
     "output_type": "stream",
     "text": [
      "\n",
      "Missing Values:\n"
     ]
    },
    {
     "data": {
      "text/plain": [
       "ID                               0\n",
       "Total                            1\n",
       "Location                         0\n",
       "Category_Health_Facility_UUID    0\n",
       "Disease                          0\n",
       "Month                            0\n",
       "Year                             0\n",
       "Transformed_Latitude             0\n",
       "Transformed_Longitude            0\n",
       "dtype: int64"
      ]
     },
     "execution_count": 10,
     "metadata": {},
     "output_type": "execute_result"
    }
   ],
   "source": [
    "print(\"\\nMissing Values:\")\n",
    "train_df.isnull().sum()\n"
   ]
  },
  {
   "cell_type": "code",
   "execution_count": 11,
   "metadata": {},
   "outputs": [
    {
     "name": "stdout",
     "output_type": "stream",
     "text": [
      "\n",
      "Unique Values in Categorical Columns:\n",
      "\n",
      "Location:\n",
      "Location\n",
      "ID_8016b072-00e9-47d3-b26b-0bc55f541664    529\n",
      "ID_bd1b57a9-066c-497a-bdef-7ae8e849db14    528\n",
      "ID_6f399bd7-f181-432a-bddc-9fff8dca7f81    528\n",
      "ID_8c25ad79-9b7f-4ba0-8e03-69cbfcd39569    528\n",
      "ID_704a38c1-35ca-4e81-ab81-02fcf41d1f72    528\n",
      "Name: count, dtype: int64\n",
      "\n",
      "Category_Health_Facility_UUID:\n",
      "Category_Health_Facility_UUID\n",
      "a9280aca-c872-46f5-ada7-4a7cc31cf6ec    13750\n",
      "b7f0a600-e19e-4c65-acb3-e28584dae35b     5621\n",
      "a3761841-2a02-4c17-8589-d35aac4edc24     2497\n",
      "56cd4cbb-23db-4dde-a6ae-9fc1ed7c8662     1980\n",
      "Name: count, dtype: int64\n",
      "\n",
      "Disease:\n",
      "Disease\n",
      "Malaria             8672\n",
      "Diarrhea            6500\n",
      "Typhoid             2170\n",
      "Schistosomiasis     2169\n",
      "Intestinal Worms    2168\n",
      "Name: count, dtype: int64\n"
     ]
    }
   ],
   "source": [
    "# Count unique values in categorical columns\n",
    "categorical_cols = ['Location', 'Category_Health_Facility_UUID', 'Disease']\n",
    "print(\"\\nUnique Values in Categorical Columns:\")\n",
    "for col in categorical_cols:\n",
    "    print(f\"\\n{col}:\")\n",
    "    print(train_df[col].value_counts().head())"
   ]
  }
 ],
 "metadata": {
  "kernelspec": {
   "display_name": ".venv",
   "language": "python",
   "name": "python3"
  },
  "language_info": {
   "codemirror_mode": {
    "name": "ipython",
    "version": 3
   },
   "file_extension": ".py",
   "mimetype": "text/x-python",
   "name": "python",
   "nbconvert_exporter": "python",
   "pygments_lexer": "ipython3",
   "version": "3.12.9"
  }
 },
 "nbformat": 4,
 "nbformat_minor": 2
}
